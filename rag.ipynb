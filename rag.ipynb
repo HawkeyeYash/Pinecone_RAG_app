{
 "cells": [
  {
   "cell_type": "code",
   "execution_count": 17,
   "metadata": {},
   "outputs": [
    {
     "name": "stderr",
     "output_type": "stream",
     "text": [
      "ERROR: pip's dependency resolver does not currently take into account all the packages that are installed. This behaviour is the source of the following dependency conflicts.\n",
      "boto3 1.35.18 requires botocore<1.36.0,>=1.35.18, but you have botocore 1.31.64 which is incompatible.\n",
      "s3transfer 0.10.2 requires botocore<2.0a.0,>=1.33.2, but you have botocore 1.31.64 which is incompatible.\n"
     ]
    },
    {
     "name": "stdout",
     "output_type": "stream",
     "text": [
      "Requirement already satisfied: PyPDF2 in c:\\users\\yash0\\anaconda3\\lib\\site-packages (3.0.1)\n",
      "Requirement already satisfied: pdfplumber in c:\\users\\yash0\\anaconda3\\lib\\site-packages (0.11.4)\n",
      "Requirement already satisfied: pdfminer.six==20231228 in c:\\users\\yash0\\anaconda3\\lib\\site-packages (from pdfplumber) (20231228)\n",
      "Requirement already satisfied: Pillow>=9.1 in c:\\users\\yash0\\anaconda3\\lib\\site-packages (from pdfplumber) (10.2.0)\n",
      "Requirement already satisfied: pypdfium2>=4.18.0 in c:\\users\\yash0\\anaconda3\\lib\\site-packages (from pdfplumber) (4.30.0)\n",
      "Requirement already satisfied: charset-normalizer>=2.0.0 in c:\\users\\yash0\\anaconda3\\lib\\site-packages (from pdfminer.six==20231228->pdfplumber) (2.0.4)\n",
      "Requirement already satisfied: cryptography>=36.0.0 in c:\\users\\yash0\\anaconda3\\lib\\site-packages (from pdfminer.six==20231228->pdfplumber) (42.0.2)\n",
      "Requirement already satisfied: cffi>=1.12 in c:\\users\\yash0\\anaconda3\\lib\\site-packages (from cryptography>=36.0.0->pdfminer.six==20231228->pdfplumber) (1.16.0)\n",
      "Requirement already satisfied: pycparser in c:\\users\\yash0\\anaconda3\\lib\\site-packages (from cffi>=1.12->cryptography>=36.0.0->pdfminer.six==20231228->pdfplumber) (2.21)\n",
      "Requirement already satisfied: pdfplumber in c:\\users\\yash0\\anaconda3\\lib\\site-packages (0.11.4)\n",
      "Requirement already satisfied: pdfminer.six==20231228 in c:\\users\\yash0\\anaconda3\\lib\\site-packages (from pdfplumber) (20231228)\n",
      "Requirement already satisfied: Pillow>=9.1 in c:\\users\\yash0\\anaconda3\\lib\\site-packages (from pdfplumber) (10.2.0)\n",
      "Requirement already satisfied: pypdfium2>=4.18.0 in c:\\users\\yash0\\anaconda3\\lib\\site-packages (from pdfplumber) (4.30.0)\n",
      "Requirement already satisfied: charset-normalizer>=2.0.0 in c:\\users\\yash0\\anaconda3\\lib\\site-packages (from pdfminer.six==20231228->pdfplumber) (2.0.4)\n",
      "Requirement already satisfied: cryptography>=36.0.0 in c:\\users\\yash0\\anaconda3\\lib\\site-packages (from pdfminer.six==20231228->pdfplumber) (42.0.2)\n",
      "Requirement already satisfied: cffi>=1.12 in c:\\users\\yash0\\anaconda3\\lib\\site-packages (from cryptography>=36.0.0->pdfminer.six==20231228->pdfplumber) (1.16.0)\n",
      "Requirement already satisfied: pycparser in c:\\users\\yash0\\anaconda3\\lib\\site-packages (from cffi>=1.12->cryptography>=36.0.0->pdfminer.six==20231228->pdfplumber) (2.21)\n",
      "Requirement already satisfied: cohere in c:\\users\\yash0\\anaconda3\\lib\\site-packages (5.9.1)\n",
      "Requirement already satisfied: transformers in c:\\users\\yash0\\anaconda3\\lib\\site-packages (4.44.2)\n",
      "Requirement already satisfied: boto3<2.0.0,>=1.34.0 in c:\\users\\yash0\\anaconda3\\lib\\site-packages (from cohere) (1.35.18)\n",
      "Requirement already satisfied: fastavro<2.0.0,>=1.9.4 in c:\\users\\yash0\\anaconda3\\lib\\site-packages (from cohere) (1.9.7)\n",
      "Requirement already satisfied: httpx>=0.21.2 in c:\\users\\yash0\\anaconda3\\lib\\site-packages (from cohere) (0.27.0)\n",
      "Requirement already satisfied: httpx-sse==0.4.0 in c:\\users\\yash0\\anaconda3\\lib\\site-packages (from cohere) (0.4.0)\n",
      "Requirement already satisfied: parameterized<0.10.0,>=0.9.0 in c:\\users\\yash0\\anaconda3\\lib\\site-packages (from cohere) (0.9.0)\n",
      "Requirement already satisfied: pydantic>=1.9.2 in c:\\users\\yash0\\anaconda3\\lib\\site-packages (from cohere) (1.10.12)\n",
      "Requirement already satisfied: pydantic-core<3.0.0,>=2.18.2 in c:\\users\\yash0\\anaconda3\\lib\\site-packages (from cohere) (2.23.3)\n",
      "Requirement already satisfied: requests<3.0.0,>=2.0.0 in c:\\users\\yash0\\anaconda3\\lib\\site-packages (from cohere) (2.31.0)\n",
      "Requirement already satisfied: tokenizers<1,>=0.15 in c:\\users\\yash0\\anaconda3\\lib\\site-packages (from cohere) (0.19.1)\n",
      "Requirement already satisfied: types-requests<3.0.0,>=2.0.0 in c:\\users\\yash0\\anaconda3\\lib\\site-packages (from cohere) (2.32.0.20240907)\n",
      "Requirement already satisfied: typing_extensions>=4.0.0 in c:\\users\\yash0\\anaconda3\\lib\\site-packages (from cohere) (4.9.0)\n",
      "Requirement already satisfied: filelock in c:\\users\\yash0\\anaconda3\\lib\\site-packages (from transformers) (3.13.1)\n",
      "Requirement already satisfied: huggingface-hub<1.0,>=0.23.2 in c:\\users\\yash0\\anaconda3\\lib\\site-packages (from transformers) (0.24.7)\n",
      "Requirement already satisfied: numpy>=1.17 in c:\\users\\yash0\\anaconda3\\lib\\site-packages (from transformers) (1.26.4)\n",
      "Requirement already satisfied: packaging>=20.0 in c:\\users\\yash0\\anaconda3\\lib\\site-packages (from transformers) (23.2)\n",
      "Requirement already satisfied: pyyaml>=5.1 in c:\\users\\yash0\\anaconda3\\lib\\site-packages (from transformers) (6.0.1)\n",
      "Requirement already satisfied: regex!=2019.12.17 in c:\\users\\yash0\\anaconda3\\lib\\site-packages (from transformers) (2023.10.3)\n",
      "Requirement already satisfied: safetensors>=0.4.1 in c:\\users\\yash0\\anaconda3\\lib\\site-packages (from transformers) (0.4.5)\n",
      "Requirement already satisfied: tqdm>=4.27 in c:\\users\\yash0\\anaconda3\\lib\\site-packages (from transformers) (4.65.0)\n",
      "Collecting botocore<1.36.0,>=1.35.18 (from boto3<2.0.0,>=1.34.0->cohere)\n",
      "  Using cached botocore-1.35.18-py3-none-any.whl.metadata (5.7 kB)\n",
      "Requirement already satisfied: jmespath<2.0.0,>=0.7.1 in c:\\users\\yash0\\anaconda3\\lib\\site-packages (from boto3<2.0.0,>=1.34.0->cohere) (1.0.1)\n",
      "Requirement already satisfied: s3transfer<0.11.0,>=0.10.0 in c:\\users\\yash0\\anaconda3\\lib\\site-packages (from boto3<2.0.0,>=1.34.0->cohere) (0.10.2)\n",
      "Requirement already satisfied: anyio in c:\\users\\yash0\\anaconda3\\lib\\site-packages (from httpx>=0.21.2->cohere) (4.2.0)\n",
      "Requirement already satisfied: certifi in c:\\users\\yash0\\anaconda3\\lib\\site-packages (from httpx>=0.21.2->cohere) (2024.2.2)\n",
      "Requirement already satisfied: httpcore==1.* in c:\\users\\yash0\\anaconda3\\lib\\site-packages (from httpx>=0.21.2->cohere) (1.0.5)\n",
      "Requirement already satisfied: idna in c:\\users\\yash0\\anaconda3\\lib\\site-packages (from httpx>=0.21.2->cohere) (3.7)\n",
      "Requirement already satisfied: sniffio in c:\\users\\yash0\\anaconda3\\lib\\site-packages (from httpx>=0.21.2->cohere) (1.3.0)\n",
      "Requirement already satisfied: h11<0.15,>=0.13 in c:\\users\\yash0\\anaconda3\\lib\\site-packages (from httpcore==1.*->httpx>=0.21.2->cohere) (0.14.0)\n",
      "Requirement already satisfied: fsspec>=2023.5.0 in c:\\users\\yash0\\anaconda3\\lib\\site-packages (from huggingface-hub<1.0,>=0.23.2->transformers) (2023.12.2)\n",
      "Requirement already satisfied: charset-normalizer<4,>=2 in c:\\users\\yash0\\anaconda3\\lib\\site-packages (from requests<3.0.0,>=2.0.0->cohere) (2.0.4)\n",
      "Requirement already satisfied: urllib3<3,>=1.21.1 in c:\\users\\yash0\\anaconda3\\lib\\site-packages (from requests<3.0.0,>=2.0.0->cohere) (2.0.7)\n",
      "Requirement already satisfied: colorama in c:\\users\\yash0\\anaconda3\\lib\\site-packages (from tqdm>=4.27->transformers) (0.4.6)\n",
      "Requirement already satisfied: python-dateutil<3.0.0,>=2.1 in c:\\users\\yash0\\anaconda3\\lib\\site-packages (from botocore<1.36.0,>=1.35.18->boto3<2.0.0,>=1.34.0->cohere) (2.8.2)\n",
      "Requirement already satisfied: six>=1.5 in c:\\users\\yash0\\anaconda3\\lib\\site-packages (from python-dateutil<3.0.0,>=2.1->botocore<1.36.0,>=1.35.18->boto3<2.0.0,>=1.34.0->cohere) (1.16.0)\n",
      "Using cached botocore-1.35.18-py3-none-any.whl (12.5 MB)\n",
      "Installing collected packages: botocore\n",
      "  Attempting uninstall: botocore\n",
      "    Found existing installation: botocore 1.31.64\n",
      "    Uninstalling botocore-1.31.64:\n",
      "      Successfully uninstalled botocore-1.31.64\n",
      "Successfully installed botocore-1.35.18\n"
     ]
    },
    {
     "name": "stderr",
     "output_type": "stream",
     "text": [
      "ERROR: pip's dependency resolver does not currently take into account all the packages that are installed. This behaviour is the source of the following dependency conflicts.\n",
      "aiobotocore 2.7.0 requires botocore<1.31.65,>=1.31.16, but you have botocore 1.35.18 which is incompatible.\n"
     ]
    }
   ],
   "source": [
    "!pip install -qU \\\n",
    "  langchain==0.1.1 \\\n",
    "  langchain-community==0.0.13 \\\n",
    "  openai==0.27.7 \\\n",
    "  tiktoken==0.4.0 \\\n",
    "  pinecone-client==3.1.0 \\\n",
    "  pinecone-datasets==0.7.0 \\\n",
    "  pinecone-notebooks==0.1.1\n",
    "!pip install PyPDF2 pdfplumber\n",
    "!pip install pdfplumber\n",
    "!pip install cohere transformers"
   ]
  },
  {
   "cell_type": "code",
   "execution_count": 18,
   "metadata": {},
   "outputs": [],
   "source": [
    "import pdfplumber\n",
    "\n",
    "def extract_text_from_pdf(file_path):\n",
    "    text = \"\"\n",
    "    with pdfplumber.open(file_path) as pdf:\n",
    "        for page in pdf.pages:\n",
    "            text += page.extract_text()\n",
    "    return text\n",
    "\n",
    "resume_text = extract_text_from_pdf('Resume-Yash.pdf')\n",
    "documents = resume_text.split('\\n')"
   ]
  },
  {
   "cell_type": "code",
   "execution_count": 19,
   "metadata": {},
   "outputs": [],
   "source": [
    "from pinecone import Pinecone\n",
    "\n",
    "api_key = \"8195b7e2-f5a8-4f29-84b5-f0d43bdcd888\"\n",
    "\n",
    "pc = Pinecone(api_key=api_key)\n",
    "from pinecone import ServerlessSpec\n",
    "\n",
    "spec = ServerlessSpec(cloud='aws', region='us-east-1')\n",
    "index_name = 'resume-retrieval-augmentation-fast'"
   ]
  },
  {
   "cell_type": "code",
   "execution_count": 20,
   "metadata": {},
   "outputs": [
    {
     "data": {
      "text/plain": [
       "{'upserted_count': 56}"
      ]
     },
     "execution_count": 20,
     "metadata": {},
     "output_type": "execute_result"
    }
   ],
   "source": [
    "import time\n",
    "\n",
    "if index_name in pc.list_indexes().names():\n",
    "    pc.delete_index(index_name)\n",
    "\n",
    "pc.create_index(\n",
    "        index_name,\n",
    "        dimension=4096,\n",
    "        metric='dotproduct',\n",
    "        spec=spec\n",
    "    )\n",
    "\n",
    "while not pc.describe_index(index_name).status['ready']:\n",
    "    time.sleep(1)\n",
    "index = pc.Index(index_name)\n",
    "time.sleep(1)\n",
    "index.describe_index_stats()"
   ]
  },
  {
   "cell_type": "code",
   "execution_count": null,
   "metadata": {},
   "outputs": [],
   "source": [
    "import cohere\n",
    "cohere_client = cohere.Client('VoGQ1PX4QgbUh0v6ZfdK9QwNZVAIvBj7WUGHZv7a')\n",
    "embeddings = cohere_client.embed(texts=documents).embeddings\n",
    "vectors = [{'id': str(i), 'values': emb} for i, emb in enumerate(embeddings)]\n",
    "index.upsert(vectors)"
   ]
  },
  {
   "cell_type": "code",
   "execution_count": 23,
   "metadata": {},
   "outputs": [],
   "source": [
    "import numpy as np\n",
    "\n",
    "def retrieve_documents(query, top_k=5):\n",
    "    query_embedding = cohere_client.embed(texts=[query]).embeddings[0]\n",
    "    for i, val in enumerate(query_embedding):\n",
    "        if not isinstance(val, float) or not np.isfinite(val):\n",
    "            print(f\"Invalid value at index {i}: {val}\")\n",
    "            query_embedding[i] = 0.0\n",
    "\n",
    "    query_embedding = [float(np.clip(val, -1, 1)) for val in query_embedding]\n",
    "\n",
    "    result = index.query(vector=[query_embedding], top_k=top_k)\n",
    "    return [documents[int(match['id'])] for match in result['matches']]\n",
    "def generate_answer(query):\n",
    "    context = retrieve_documents(query)\n",
    "    combined_context = ' '.join(context)\n",
    "\n",
    "    response = cohere_client.generate(\n",
    "        model='command-r-plus-08-2024',\n",
    "        prompt=f\"Context: {combined_context}\\n\\nQuestion: {query}\\n\\nAnswer:\",\n",
    "        max_tokens=100\n",
    "    )\n",
    "    return response.generations[0].text\n",
    "\n",
    "queries = [\n",
    "    \"What is the name of the candidate?\",\n",
    "    \"Is the candidate suitable for GenAI Internship Job according to the resume?\",\n",
    "    \"What skills does the candidate have according to the resume?\"\n",
    "]"
   ]
  },
  {
   "cell_type": "code",
   "execution_count": 24,
   "metadata": {},
   "outputs": [
    {
     "name": "stdout",
     "output_type": "stream",
     "text": [
      "Query: What is the name of the candidate?\n",
      "Answer: The name of the candidate is Yash Kumar Shukla.\n",
      "\n",
      "Query: Is the candidate suitable for GenAI Internship Job according to the resume?\n",
      "Answer: Yes\n",
      "\n",
      "Query: What skills does the candidate have according to the resume?\n",
      "Answer: The candidate's skills according to the resume include programming in Scala, C/C++, Python, MySQL, HTML, and CSS, as well as R. They also have technical skills in data science, data analysis, data structures, algorithms, and probabilistic data. Other skills mentioned are web development, robotic process automation, database management, and intelligence and research.\n",
      "\n"
     ]
    }
   ],
   "source": [
    "for query in queries:\n",
    "    print(f\"Query: {query}\")\n",
    "    print(f\"Answer: {generate_answer(query)}\\n\")"
   ]
  }
 ],
 "metadata": {
  "kernelspec": {
   "display_name": "base",
   "language": "python",
   "name": "python3"
  },
  "language_info": {
   "codemirror_mode": {
    "name": "ipython",
    "version": 3
   },
   "file_extension": ".py",
   "mimetype": "text/x-python",
   "name": "python",
   "nbconvert_exporter": "python",
   "pygments_lexer": "ipython3",
   "version": "3.11.7"
  }
 },
 "nbformat": 4,
 "nbformat_minor": 2
}
